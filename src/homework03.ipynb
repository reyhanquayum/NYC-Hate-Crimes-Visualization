{
 "cells": [
  {
   "cell_type": "markdown",
   "metadata": {},
   "source": [
    "# Homework 03"
   ]
  },
  {
   "attachments": {},
   "cell_type": "markdown",
   "metadata": {},
   "source": [
    "\n",
    "## Part 1 - Questions\n",
    "\n",
    "### Question 1: \n",
    "\n",
    "Which demographic of people (race/religion/sexual orientation) is the victim of the most hate crimes in NYC?\n",
    "\n",
    "* Who (population): NYC population\n",
    "* What (subject, discipline): criminology\n",
    "* Where (location): NYC \n",
    "* When (snapshot, longitudinal): October 2020-February 2023\n",
    "* How much data do you need to do the analysis/work: Dataset containing at least 1,000 hate crimes\n",
    "\n",
    "### Question N: \n",
    "\n",
    "TODO (write the question)\n",
    "\n",
    "* Who (population): TODO\n",
    "* What (subject, discipline): TODO\n",
    "* Where (location): TODO\n",
    "* When (snapshot, longitudinal): TODO\n",
    "* How much data do you need to do the analysis/work: TODO\n",
    "\n",
    "### Who Might Collect Relevant Data / What Articles or Publications Cite a Relevant Data Set?\n",
    "\n",
    "The police department or NYC Open Data might collect relevant data"
   ]
  },
  {
   "attachments": {},
   "cell_type": "markdown",
   "metadata": {},
   "source": [
    "## Part 2 - Selecting a Data Set, Adding Documentation\n",
    "\n",
    "\n",
    "\n",
    "1. Name / Title: NYPD Hate Crimes\n",
    "2. Link to Data: https://data.cityofnewyork.us/Public-Safety/NYPD-Hate-Crimes/bqiq-cu78\n",
    "3. Source / Origin: \n",
    "\t* Author or Creator: Police Department (NYPD)\n",
    "\t* Publication Date: October 29 2020 (updated February 1 2023)\n",
    "\t* Publisher: NYC OpenData\n",
    "\t* Version or Data Accessed: 2/14/2023\n",
    "4. License: (TODO name of license)\n",
    "5. Can You Use this Data Set for Your Intended Use Case? (TODO answer this question)"
   ]
  },
  {
   "cell_type": "markdown",
   "metadata": {},
   "source": [
    "## Format\n",
    "\n"
   ]
  },
  {
   "attachments": {},
   "cell_type": "markdown",
   "metadata": {},
   "source": [
    "\n",
    "### Overview\n",
    "\n",
    "* Format: csv\n",
    "* Size: 334 KB\n",
    "* Number of Records: 1971\n",
    "\n"
   ]
  },
  {
   "cell_type": "markdown",
   "metadata": {},
   "source": [
    "### Sample of Data\n",
    "\n",
    "\n"
   ]
  },
  {
   "cell_type": "code",
   "execution_count": 3,
   "metadata": {},
   "outputs": [
    {
     "name": "stdout",
     "output_type": "stream",
     "text": [
      "Full Complaint ID,Complaint Year Number,Month Number,Record Create Date,Complaint Precinct Code,Patrol Borough Name,County,Law Code Category Description,Offense Description,PD Code Description,Bias Motive Description,Offense Category,Arrest Date,Arrest Id\n",
      "201904812231317,2019,3,03/10/2019,48,PATROL BORO BRONX,BRONX,MISDEMEANOR,ASSAULT 3 & RELATED OFFENSES,ASSAULT 3,ANTI-WHITE,Race/Color,03/09/2019,B31682806\n",
      "202004412397317,2020,3,03/28/2020,44,PATROL BORO BRONX,BRONX,FELONY,FELONY ASSAULT,\"ASSAULT 2,1,UNCLASSIFIED\",ANTI-ASIAN,Race/Color,03/28/2020,B32682490\n",
      "202004412397317,2020,3,03/28/2020,44,PATROL BORO BRONX,BRONX,FELONY,FELONY ASSAULT,\"ASSAULT 2,1,UNCLASSIFIED\",ANTI-ASIAN,Race/Color,03/28/2020,B32682492\n",
      "202004512477317,2020,7,07/18/2020,45,PATROL BORO BRONX,BRONX,MISDEMEANOR,OFF. AGNST PUB ORD SENSBLTY &,AGGRAVATED HARASSMENT 2,ANTI-BLACK,Race/Color,11/10/2020,B32701468\n",
      "202105012236217,2021,4,04/25/2021,50,PATROL BORO BRONX,BRONX,FELONY,CRIMINAL MISCHIEF & RELATED OF,\"MISCHIEF,CRIMINAL,    UNCL 2ND\",ANTI-JEWISH,Religion/Religious Practice,05/01/2021,B33683686\n"
     ]
    }
   ],
   "source": [
    "# TODO show a few lines of data from the actual file\n",
    "\n",
    "with open('NYPD_Hate_Crimes.csv', 'r') as file:\n",
    "    header = file.readline()\n",
    "    print(header.strip())\n",
    "    \n",
    "    for i in range(5):\n",
    "        line = file.readline()\n",
    "        print(line.strip())\n"
   ]
  },
  {
   "cell_type": "code",
   "execution_count": 5,
   "id": "c5f46934",
   "metadata": {},
   "outputs": [
    {
     "name": "stdout",
     "output_type": "stream",
     "text": [
      "Field/Column 1: Full Complaint ID (str)\n",
      "Field/Column 2: Complaint Year Number (str)\n",
      "Field/Column 3: Month Number (str)\n",
      "Field/Column 4: Record Create Date (str)\n",
      "Field/Column 5: Complaint Precinct Code (str)\n",
      "Field/Column 6: Patrol Borough Name (str)\n",
      "Field/Column 7: County (str)\n",
      "Field/Column 8: Law Code Category Description (str)\n",
      "Field/Column 9: Offense Description (str)\n",
      "Field/Column 10: PD Code Description (str)\n",
      "Field/Column 11: Bias Motive Description (str)\n",
      "Field/Column 12: Offense Category (str)\n",
      "Field/Column 13: Arrest Date (str)\n",
      "Field/Column 14: Arrest Id (str)\n"
     ]
    }
   ],
   "source": [
    "import csv\n",
    "\n",
    "with open('NYPD_Hate_Crimes.csv') as file:\n",
    "    reader = csv.reader(file)\n",
    "    header = next(reader)\n",
    "    \n",
    "    field_info = []\n",
    "    \n",
    "    for field in header:\n",
    "        potential_types = set()\n",
    "        \n",
    "        for i in range(5):\n",
    "            row = next(reader)\n",
    "            value = row[header.index(field)]\n",
    "            value_type = type(value).__name__\n",
    "            potential_types.add(value_type)\n",
    "        \n",
    "        if 'float' in potential_types:\n",
    "            field_type = float\n",
    "        elif 'int' in potential_types:\n",
    "            field_type = int\n",
    "        elif 'str' in potential_types:\n",
    "            field_type = str\n",
    "        \n",
    "        field_info.append((field, field_type))\n",
    "    \n",
    "    for field, field_type in field_info:\n",
    "        print(f\"Field/Column {header.index(field) + 1}: {field} ({field_type.__name__})\")\n"
   ]
  },
  {
   "attachments": {},
   "cell_type": "markdown",
   "metadata": {},
   "source": [
    "\n",
    "### Fields or Column Headers\n",
    "\n",
    "Field/Column 1: Full Complaint ID (str)\n",
    "Field/Column 2: Complaint Year Number (str)\n",
    "Field/Column 3: Month Number (str)\n",
    "Field/Column 4: Record Create Date (str)\n",
    "Field/Column 5: Complaint Precinct Code (str)\n",
    "Field/Column 6: Patrol Borough Name (str)\n",
    "Field/Column 7: County (str)\n",
    "Field/Column 8: Law Code Category Description (str)\n",
    "Field/Column 9: Offense Description (str)\n",
    "Field/Column 10: PD Code Description (str)\n",
    "Field/Column 11: Bias Motive Description (str)\n",
    "Field/Column 12: Offense Category (str)\n",
    "Field/Column 13: Arrest Date (str)\n",
    "Field/Column 14: Arrest Id (str)"
   ]
  },
  {
   "attachments": {},
   "cell_type": "markdown",
   "metadata": {},
   "source": [
    "## Part 3 - Extract / Transform\n",
    "\n",
    "TODO describe your process for extracting, transforming, cleaning your incoming data:\n",
    "\n",
    "* what columns you'll be using (extracting) from your dataset\n",
    "* 'Bias-Motivation' column will be used to identify hate crimes aginst specific demographics\n",
    "* how you're planning to convert the data into analogous python types / how you'll deal with type issues (for example, you may want a column that's numeric, but the data contains a label, such as 4 months) \n",
    "* To convert the data in these columns into analogous Python types, we can use the built-in str type, since all of these columns contain text data. We don't need to perform any additional data cleaning, since the data in these columns is already in a consistent format\n",
    "* any other kind of cleaning (_normalizing_ data, filling in missing values, etc.) that you'll have to perform\n",
    "* will need to obtain the data to get the year in which the most hate crimes against a minority was committed by storing the year number as an integer\n"
   ]
  },
  {
   "cell_type": "code",
   "execution_count": 16,
   "metadata": {},
   "outputs": [
    {
     "name": "stdout",
     "output_type": "stream",
     "text": [
      "The demographic of people with the most hate crimes in NYC are ANTI-JEWISH with a count of 866\n",
      "The year with the highest count of ANTI-JEWISH crimes in PATROL BORO BKLYN SOUTH is 2019 with a count of 71\n"
     ]
    }
   ],
   "source": [
    "import csv\n",
    "\n",
    "filename = 'NYPD_Hate_Crimes.csv'\n",
    "\n",
    "bias_counts = {}\n",
    "year_borough_counts = {}\n",
    "\n",
    "with open(filename, 'r') as file:\n",
    "    reader = csv.DictReader(file)\n",
    "    for row in reader:\n",
    "        bias_motivation = row['Bias Motive Description']\n",
    "        if bias_motivation in bias_counts:\n",
    "            bias_counts[bias_motivation] += 1\n",
    "        else:\n",
    "            bias_counts[bias_motivation] = 1\n",
    "\n",
    "max_count = 0\n",
    "max_bias_motivation = ''\n",
    "for bias_motivation, count in bias_counts.items():\n",
    "    if count > max_count:\n",
    "        max_count = count\n",
    "        max_bias_motivation = bias_motivation\n",
    "\n",
    "max_year = ''\n",
    "max_borough = ''\n",
    "max_count_by_year_borough = 0\n",
    "with open(filename, 'r') as file:\n",
    "    reader = csv.DictReader(file)\n",
    "    for row in reader:\n",
    "        if row['Bias Motive Description'] == max_bias_motivation:\n",
    "            year = row['Complaint Year Number']\n",
    "            borough = row['Patrol Borough Name']\n",
    "            count = 1\n",
    "            if (year, borough) in year_borough_counts:\n",
    "                count += year_borough_counts[(year, borough)]\n",
    "            year_borough_counts[(year, borough)] = count\n",
    "            if count > max_count_by_year_borough:\n",
    "                max_count_by_year_borough = count\n",
    "                max_year = year\n",
    "                max_borough = borough\n",
    "\n",
    "print(f'The demographic of people with the most hate crimes in NYC are {max_bias_motivation} with a count of {max_count}')\n",
    "print(f'The year and patrol borough with the highest count of {max_bias_motivation} crimes in {max_borough} is {max_year} with a count of {max_count_by_year_borough}')\n",
    "\n"
   ]
  },
  {
   "cell_type": "markdown",
   "metadata": {},
   "source": [
    "## Part 4 - Descriptive Statistics\n",
    "\n",
    "### Analysis on Numeric Data\n",
    "\n",
    "#### Central Tendency\n",
    "\n"
   ]
  },
  {
   "cell_type": "code",
   "execution_count": 26,
   "metadata": {},
   "outputs": [
    {
     "name": "stdout",
     "output_type": "stream",
     "text": [
      "Mean: 2020.7397260273972\n"
     ]
    }
   ],
   "source": [
    "\n",
    "import numpy as np\n",
    "import csv\n",
    "import statistics\n",
    "\n",
    "\n",
    "filename = 'NYPD_Hate_Crimes.csv'\n",
    "with open(filename, 'r') as file:\n",
    "    reader = csv.DictReader(file)\n",
    "    years = []\n",
    "    for row in reader:\n",
    "        year = int(row['Complaint Year Number'])\n",
    "        years.append(year)\n",
    "\n",
    "num_records = len(years)\n",
    "minimum = np.min(years)\n",
    "maximum = np.max(years)\n",
    "mean = np.mean(years)\n",
    "median = np.median(years)\n",
    "mode = float(np.nan)\n",
    "if len(years) > 0:\n",
    "    mode = float(np.array(stats.mode(years)))\n",
    "variance = np.var(years)\n",
    "\n",
    "\n",
    "\n",
    "print(f'Mean: {mean}')\n",
    "\n"
   ]
  },
  {
   "cell_type": "markdown",
   "metadata": {},
   "source": [
    "#### Dispersion"
   ]
  },
  {
   "cell_type": "code",
   "execution_count": 4,
   "metadata": {},
   "outputs": [],
   "source": [
    "# TODO: copy and paste your results here\n",
    "print(f'Variance: {variance}')"
   ]
  },
  {
   "cell_type": "markdown",
   "metadata": {},
   "source": [
    "#### Outliers\n"
   ]
  },
  {
   "cell_type": "code",
   "execution_count": 5,
   "metadata": {},
   "outputs": [],
   "source": [
    "# TODO: copy and paste your results here\n",
    "print(f'Minimum: {minimum}')\n",
    "print(f'Maximum: {maximum}')"
   ]
  },
  {
   "cell_type": "markdown",
   "metadata": {},
   "source": [
    "#### Other\n"
   ]
  },
  {
   "cell_type": "code",
   "execution_count": 24,
   "metadata": {},
   "outputs": [
    {
     "name": "stdout",
     "output_type": "stream",
     "text": [
      "Number of records: 1971\n",
      "Minimum: 2019\n",
      "Maximum: 2022\n",
      "Median: 2021.0\n",
      "Mode: 2022.0\n"
     ]
    }
   ],
   "source": [
    "# TODO: copy and paste your results here\n",
    "print(f'Number of records: {num_records}')\n",
    "print(f'Median: {median}')\n",
    "print(f'Mode: {mode}')\n"
   ]
  },
  {
   "cell_type": "markdown",
   "metadata": {},
   "source": [
    "###  Analysis on Categorical Data"
   ]
  },
  {
   "cell_type": "markdown",
   "metadata": {},
   "source": [
    "#### Frequency"
   ]
  },
  {
   "cell_type": "code",
   "execution_count": 28,
   "metadata": {},
   "outputs": [
    {
     "name": "stdout",
     "output_type": "stream",
     "text": [
      "ANTI-WHITE: 71\n",
      "ANTI-ASIAN: 275\n",
      "ANTI-BLACK: 169\n",
      "ANTI-JEWISH: 866\n",
      "ANTI-FEMALE HOMOSEXUAL (LESBIAN): 29\n",
      "ANTI-MALE HOMOSEXUAL (GAY): 241\n",
      "ANTI-TRANSGENDER: 51\n",
      "ANTI-FEMALE: 14\n",
      "ANTI-OTHER ETHNICITY: 76\n",
      "ANTI-MUSLIM: 52\n",
      "ANTI-ARAB: 7\n",
      "ANTI-CATHOLIC: 36\n",
      "ANTI-HISPANIC: 36\n",
      "ANTI-GENDER NON-CONFORMING: 6\n",
      "ANTI-EASTERN ORTHODOX: 2\n",
      "ANTI-LGBT (MIXED GROUP): 11\n",
      "ANTI-OTHER RELIGION: 5\n",
      "60 YRS AND OLDER: 1\n",
      "ANTI-HINDU: 6\n",
      "ANTI-JEHOVAHS WITNESS: 2\n",
      "ANTI-PHYSICAL DISABILITY: 1\n",
      "ANTI-SIKH: 4\n",
      "ANTI-MULTI-RACIAL GROUPS: 3\n",
      "ANTI-RELIGIOUS PRACTICE GENERALLY: 3\n",
      "ANTI-BUDDHIST: 3\n",
      "ANTI-PROTESTANT: 1\n"
     ]
    }
   ],
   "source": [
    "# TODO: copy and paste your results here\n",
    "import csv\n",
    "\n",
    "with open('NYPD_Hate_Crimes.csv', newline='') as csvfile:\n",
    "    reader = csv.reader(csvfile)\n",
    "    \n",
    "    next(reader)\n",
    "    \n",
    "\n",
    "    bias_counts = {}\n",
    "    \n",
    "    for row in reader:\n",
    "\n",
    "        bias = row[10]\n",
    "        \n",
    "        if bias in bias_counts:\n",
    "            bias_counts[bias] += 1\n",
    "        else:\n",
    "            bias_counts[bias] = 1\n",
    "\n",
    "\n",
    "for bias, count in bias_counts.items():\n",
    "    print(f'{bias}: {count}')\n"
   ]
  },
  {
   "cell_type": "markdown",
   "metadata": {},
   "source": [
    "#### Unique Values"
   ]
  },
  {
   "cell_type": "code",
   "execution_count": 34,
   "id": "dfb5963a",
   "metadata": {},
   "outputs": [
    {
     "name": "stdout",
     "output_type": "stream",
     "text": [
      "ANTI-WHITE\n",
      "ANTI-ASIAN\n",
      "ANTI-BLACK\n",
      "ANTI-JEWISH\n",
      "ANTI-FEMALE HOMOSEXUAL (LESBIAN)\n",
      "ANTI-MALE HOMOSEXUAL (GAY)\n",
      "ANTI-TRANSGENDER\n",
      "ANTI-FEMALE\n",
      "ANTI-OTHER ETHNICITY\n",
      "ANTI-MUSLIM\n",
      "ANTI-ARAB\n",
      "ANTI-CATHOLIC\n",
      "ANTI-HISPANIC\n",
      "ANTI-GENDER NON-CONFORMING\n",
      "ANTI-EASTERN ORTHODOX\n",
      "ANTI-LGBT (MIXED GROUP)\n",
      "ANTI-OTHER RELIGION\n",
      "60 YRS AND OLDER\n",
      "ANTI-HINDU\n",
      "ANTI-JEHOVAHS WITNESS\n",
      "ANTI-PHYSICAL DISABILITY\n",
      "ANTI-SIKH\n",
      "ANTI-MULTI-RACIAL GROUPS\n",
      "ANTI-RELIGIOUS PRACTICE GENERALLY\n",
      "ANTI-BUDDHIST\n",
      "ANTI-PROTESTANT\n"
     ]
    }
   ],
   "source": [
    "# TODO: copy and paste your results here\n",
    "for bias, count in bias_counts.items():\n",
    "    print(f'{bias}')"
   ]
  },
  {
   "cell_type": "markdown",
   "metadata": {},
   "source": [
    "## Part 5 - Visualizations\n",
    "\n"
   ]
  },
  {
   "cell_type": "code",
   "execution_count": 53,
   "metadata": {},
   "outputs": [
    {
     "data": {
      "image/png": "[encoded data removed]",
      "text/plain": [
       "<Figure size 640x480 with 1 Axes>"
      ]
     },
     "metadata": {},
     "output_type": "display_data"
    }
   ],
   "source": [
    "import csv\n",
    "import matplotlib.pyplot as plt\n",
    "\n",
    "with open('NYPD_Hate_Crimes.csv', newline='', encoding='utf-8') as file:\n",
    "    reader = csv.reader(file)\n",
    "    next(reader) \n",
    "    bias_counts = {}\n",
    "    for row in reader:\n",
    "        bias_motive = row[10]\n",
    "        if bias_motive not in bias_counts:\n",
    "            bias_counts[bias_motive] = 1\n",
    "        else:\n",
    "            bias_counts[bias_motive] += 1\n",
    "\n",
    "\n",
    "top5_bias = sorted(bias_counts.items(), key=lambda x: x[1], reverse=True)[:5]\n",
    "bias_labels = [bias[0] for bias in top5_bias]\n",
    "bias_freqs = [bias[1] for bias in top5_bias]\n",
    "\n",
    "plt.bar(bias_labels, bias_freqs)\n",
    "plt.title('Top 5 Bias Motives in NYC Hate Crimes')\n",
    "plt.xlabel('Bias Motive')\n",
    "plt.ylabel('Frequency')\n",
    "plt.xticks(rotation=45)\n",
    "plt.show()\n"
   ]
  },
  {
   "attachments": {},
   "cell_type": "markdown",
   "metadata": {},
   "source": [
    "The most discriminated against group in NYC are Jews, coming in at second and third are Asians and Homosexual men in terms of hate crimes perpretrated against them as a bias"
   ]
  },
  {
   "cell_type": "markdown",
   "metadata": {},
   "source": [
    "## Part 6 - Conclusion\n",
    "\n",
    "I think my question was a little too easy to answer, as all it needed was a simple counter. The conclusion is that the highest amount of hate crimes in NYC was committed against Jewish people, and that the borough it occured most in was Brooklyn in the year 2019"
   ]
  },
  {
   "attachments": {},
   "cell_type": "markdown",
   "id": "b50736d1",
   "metadata": {},
   "source": [
    "## Part 7\n",
    "\n",
    "1. WEIGHTLBTC_A   - Weight without shoes (pounds), public use \n",
    "HEIGHTTC_A - Total height in inches, public use \n",
    "\n",
    "2. missing data is simply an empty string, no whitespace\n"
   ]
  },
  {
   "cell_type": "code",
   "execution_count": 52,
   "id": "839df857",
   "metadata": {},
   "outputs": [
    {
     "name": "stdout",
     "output_type": "stream",
     "text": [
      "Correlation coefficient: 0.7604621859407162\n"
     ]
    },
    {
     "data": {
      "image/png": "[encoded data removed]",
      "text/plain": [
       "<Figure size 640x480 with 1 Axes>"
      ]
     },
     "metadata": {},
     "output_type": "display_data"
    }
   ],
   "source": [
    "import csv\n",
    "import numpy as np\n",
    "import matplotlib.pyplot as plt\n",
    "\n",
    "with open('adult19.csv', newline='') as csvfile:\n",
    "    reader = csv.DictReader(csvfile)\n",
    "    height = []\n",
    "    weight = []\n",
    "\n",
    "    for row in reader:\n",
    "\n",
    "        height.append(float(row['HEIGHTTC_A']))\n",
    "        weight.append(float(row['WEIGHTLBTC_A']))\n",
    "    \n",
    "\n",
    "    corrcoef = np.corrcoef(height, weight)[0,1]\n",
    "    print(f\"Correlation coefficient: {corrcoef}\")\n",
    "    \n",
    "\n",
    "    plt.scatter(height, weight, alpha=0.01, s=2)\n",
    "    plt.xlabel('Height')\n",
    "    plt.ylabel('Weight')\n",
    "    plt.show()\n"
   ]
  }
 ],
 "metadata": {
  "kernelspec": {
   "display_name": "Python 3",
   "language": "python",
   "name": "python3"
  },
  "language_info": {
   "codemirror_mode": {
    "name": "ipython",
    "version": 3
   },
   "file_extension": ".py",
   "mimetype": "text/x-python",
   "name": "python",
   "nbconvert_exporter": "python",
   "pygments_lexer": "ipython3",
   "version": "3.9.13"
  },
  "vscode": {
   "interpreter": {
    "hash": "6fda9bd0d925f1c319944d5af1229f4b9b97e7318e2995588464175656a1014a"
   }
  }
 },
 "nbformat": 4,
 "nbformat_minor": 5
}
